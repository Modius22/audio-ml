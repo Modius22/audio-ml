{
 "cells": [
  {
   "cell_type": "code",
   "execution_count": 6,
   "id": "348fee93",
   "metadata": {},
   "outputs": [],
   "source": [
    "import optuna\n",
    "import joblib\n",
    "from libs import models\n",
    "\n",
    "\n"
   ]
  },
  {
   "cell_type": "code",
   "execution_count": 7,
   "id": "d8d2cae7",
   "metadata": {},
   "outputs": [],
   "source": [
    "\n",
    "#models = ['LogReg','GaussianNB','DeTree','RandomForest','SVC','XGBClassifier','MLP']\n",
    "model_selection = ['LogReg']\n",
    "\n",
    "#standard models\n",
    "SMOTE = False\n",
    "\n"
   ]
  },
  {
   "cell_type": "code",
   "execution_count": 9,
   "id": "4c05f058",
   "metadata": {
    "scrolled": true
   },
   "outputs": [
    {
     "name": "stderr",
     "output_type": "stream",
     "text": [
      "\u001b[32m[I 2022-06-06 20:28:58,959]\u001b[0m A new study created in memory with name: LogReg\u001b[0m\n"
     ]
    },
    {
     "name": "stdout",
     "output_type": "stream",
     "text": [
      "no study existing\n"
     ]
    },
    {
     "name": "stderr",
     "output_type": "stream",
     "text": [
      "\u001b[33m[W 2022-06-06 20:28:59,266]\u001b[0m Trial 0 failed, because the objective function returned nan.\u001b[0m\n",
      "\u001b[33m[W 2022-06-06 20:28:59,467]\u001b[0m Trial 1 failed, because the objective function returned nan.\u001b[0m\n"
     ]
    }
   ],
   "source": [
    "#models = ['RandomForest']\n",
    "for x in model_selection:\n",
    "    study_name = x\n",
    "\n",
    "    study = optuna.create_study(study_name=study_name,direction=\"maximize\")\n",
    "\n",
    "    try:\n",
    "        if not SMOTE:\n",
    "            study = joblib.load('../data/study/' + x + '.pkl')\n",
    "        if SMOTE:\n",
    "            study = joblib.load('../data/study/' + x + '_smote.pkl')\n",
    "\n",
    "    except:\n",
    "        print('no study existing')\n",
    "\n",
    "    study.optimize(lambda trial: models.objective(trial,[x],smote=SMOTE), n_trials=2)\n",
    "\n",
    "    if not SMOTE:\n",
    "        joblib.dump(study, '../data/study/' + x + '.pkl')\n",
    "    if SMOTE:\n",
    "        joblib.dump(study, '../data/study/' + x + '_smote.pkl')\n"
   ]
  },
  {
   "cell_type": "code",
   "execution_count": null,
   "id": "33f91e24",
   "metadata": {},
   "outputs": [],
   "source": []
  },
  {
   "cell_type": "code",
   "execution_count": null,
   "id": "a812605b",
   "metadata": {},
   "outputs": [],
   "source": []
  }
 ],
 "metadata": {
  "kernelspec": {
   "display_name": "Python 3 (ipykernel)",
   "language": "python",
   "name": "python3"
  },
  "language_info": {
   "codemirror_mode": {
    "name": "ipython",
    "version": 3
   },
   "file_extension": ".py",
   "mimetype": "text/x-python",
   "name": "python",
   "nbconvert_exporter": "python",
   "pygments_lexer": "ipython3",
   "version": "3.8.10"
  }
 },
 "nbformat": 4,
 "nbformat_minor": 5
}
