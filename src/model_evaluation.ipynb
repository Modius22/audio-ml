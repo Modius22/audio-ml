{
 "cells": [
  {
   "cell_type": "code",
   "execution_count": 19,
   "id": "348fee93",
   "metadata": {},
   "outputs": [],
   "source": [
    "import optuna\n",
    "import joblib\n",
    "import json\n",
    "from datetime import date\n",
    "\n",
    "from libs import models\n",
    "\n"
   ]
  },
  {
   "cell_type": "code",
   "execution_count": 15,
   "id": "d8d2cae7",
   "metadata": {},
   "outputs": [],
   "source": [
    "model_selection = ['DeTree','LogReg','SVC','MLP','RandomForest']\n",
    "today = date.today()\n",
    "study_name = 'v3'\n",
    "best_params_file = r'../data/study/' + str(today) + '_params.txt'"
   ]
  },
  {
   "cell_type": "code",
   "execution_count": 20,
   "id": "48f8a622",
   "metadata": {
    "scrolled": true
   },
   "outputs": [
    {
     "name": "stderr",
     "output_type": "stream",
     "text": [
      "\u001b[32m[I 2022-06-09 14:51:58,312]\u001b[0m A new study created in memory with name: v3\u001b[0m\n",
      "\u001b[32m[I 2022-06-09 14:51:59,849]\u001b[0m Trial 220 finished with value: 0.9651829268292683 and parameters: {'classifier': 'RandomForest', 'rf_n_estimators': 814, 'rf_max_depth': 20, 'rf_min_samples_leaf': 2, 'rf_min_samples_split': 7, 'random_state': 24, 'rf_weights': 398}. Best is trial 95 with value: 0.9800609756097561.\u001b[0m\n",
      "\u001b[32m[I 2022-06-09 14:52:01,169]\u001b[0m Trial 221 finished with value: 0.9800609756097561 and parameters: {'classifier': 'RandomForest', 'rf_n_estimators': 696, 'rf_max_depth': 14, 'rf_min_samples_leaf': 1, 'rf_min_samples_split': 2, 'random_state': 3, 'rf_weights': 27}. Best is trial 95 with value: 0.9800609756097561.\u001b[0m\n",
      "/usr/local/lib/python3.8/dist-packages/sklearn/neural_network/_multilayer_perceptron.py:702: ConvergenceWarning: Stochastic Optimizer: Maximum iterations (200) reached and the optimization hasn't converged yet.\n",
      "  warnings.warn(\n",
      "/usr/local/lib/python3.8/dist-packages/sklearn/neural_network/_multilayer_perceptron.py:702: ConvergenceWarning: Stochastic Optimizer: Maximum iterations (200) reached and the optimization hasn't converged yet.\n",
      "  warnings.warn(\n",
      "/usr/local/lib/python3.8/dist-packages/sklearn/neural_network/_multilayer_perceptron.py:702: ConvergenceWarning: Stochastic Optimizer: Maximum iterations (200) reached and the optimization hasn't converged yet.\n",
      "  warnings.warn(\n",
      "/usr/local/lib/python3.8/dist-packages/sklearn/neural_network/_multilayer_perceptron.py:702: ConvergenceWarning: Stochastic Optimizer: Maximum iterations (200) reached and the optimization hasn't converged yet.\n",
      "  warnings.warn(\n",
      "/usr/local/lib/python3.8/dist-packages/sklearn/neural_network/_multilayer_perceptron.py:702: ConvergenceWarning: Stochastic Optimizer: Maximum iterations (200) reached and the optimization hasn't converged yet.\n",
      "  warnings.warn(\n",
      "/usr/local/lib/python3.8/dist-packages/sklearn/neural_network/_multilayer_perceptron.py:702: ConvergenceWarning: Stochastic Optimizer: Maximum iterations (200) reached and the optimization hasn't converged yet.\n",
      "  warnings.warn(\n",
      "/usr/local/lib/python3.8/dist-packages/sklearn/neural_network/_multilayer_perceptron.py:702: ConvergenceWarning: Stochastic Optimizer: Maximum iterations (200) reached and the optimization hasn't converged yet.\n",
      "  warnings.warn(\n",
      "/usr/local/lib/python3.8/dist-packages/sklearn/neural_network/_multilayer_perceptron.py:702: ConvergenceWarning: Stochastic Optimizer: Maximum iterations (200) reached and the optimization hasn't converged yet.\n",
      "  warnings.warn(\n",
      "/usr/local/lib/python3.8/dist-packages/sklearn/neural_network/_multilayer_perceptron.py:702: ConvergenceWarning: Stochastic Optimizer: Maximum iterations (200) reached and the optimization hasn't converged yet.\n",
      "  warnings.warn(\n",
      "/usr/local/lib/python3.8/dist-packages/sklearn/neural_network/_multilayer_perceptron.py:702: ConvergenceWarning: Stochastic Optimizer: Maximum iterations (200) reached and the optimization hasn't converged yet.\n",
      "  warnings.warn(\n"
     ]
    }
   ],
   "source": [
    "\n",
    "\n",
    "study = optuna.create_study(study_name=study_name,direction=\"maximize\")\n",
    "\n",
    "try:\n",
    "    study = joblib.load('../data/study/' + study_name + '.pkl')\n",
    "\n",
    "except:\n",
    "    print('no study existing')\n",
    "\n",
    "study.optimize(lambda trial: models.objective(trial,model_selection), n_trials=2)\n",
    "joblib.dump(study, '../data/study/' + study_name + '.pkl')\n",
    "best_model=study.best_params\n",
    "\n",
    "\n",
    "a_file = open(best_params_file, \"w\")\n",
    "\n",
    "json.dump(best_model, a_file)\n",
    "a_file.close()\n",
    "\n"
   ]
  },
  {
   "cell_type": "code",
   "execution_count": null,
   "id": "ca2a7c7d",
   "metadata": {},
   "outputs": [],
   "source": []
  }
 ],
 "metadata": {
  "kernelspec": {
   "display_name": "Python 3 (ipykernel)",
   "language": "python",
   "name": "python3"
  },
  "language_info": {
   "codemirror_mode": {
    "name": "ipython",
    "version": 3
   },
   "file_extension": ".py",
   "mimetype": "text/x-python",
   "name": "python",
   "nbconvert_exporter": "python",
   "pygments_lexer": "ipython3",
   "version": "3.8.10"
  }
 },
 "nbformat": 4,
 "nbformat_minor": 5
}
